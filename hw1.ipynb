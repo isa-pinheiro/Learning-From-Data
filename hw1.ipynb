{
  "nbformat": 4,
  "nbformat_minor": 0,
  "metadata": {
    "colab": {
      "provenance": []
    },
    "kernelspec": {
      "name": "python3",
      "display_name": "Python 3"
    },
    "language_info": {
      "name": "python"
    }
  },
  "cells": [
    {
      "cell_type": "markdown",
      "source": [
        "### Homework 1\n",
        "The Perceptron Learning Algorithm In this problem, you will create your own target function f and data set D to see how the Perceptron Learning Algorithm works. Take d = 2 so you can visualize the problem, and assume X = [−1, 1] × [−1, 1] with uniform probability of picking each x ∈ X.\n",
        "\n",
        "In each run, choose a random line in the plane as your target function f (do this by taking two random, uniformly distributed points in [−1, 1] × [−1, 1] and taking the line passing through them), where one side of the line maps to +1 and the other maps to −1. Choose the inputs xn of the data set as random points (uniformly in X ), and evaluate the target function on each xn to get the corresponding output yn.\n",
        "\n",
        "Now, in each run, use the Perceptron Learning Algorithm to find g. Start the PLA\n",
        "with the weight vector w being all zeros (consider sign(0) = 0, so all points are initially misclassified), and at each iteration have the algorithm choose a point randomly from the set of misclassified points. We are interested in two quantities: the number of iterations that PLA takes to converge to g, and the disagreement between f and g which is P[f(x) 6= g(x)] (the probability that f and g will disagree on their classification of a random point). You can either calculate this probability exactly, or approximate it by generating a sufficiently large, separate set of points to estimate it.\n",
        "\n",
        "In order to get a reliable estimate for these two quantities, you should repeat the experiment for 1000 runs (each run as specified above) and take the average over these runs.\n"
      ],
      "metadata": {
        "id": "sNO18bhWi6gc"
      }
    },
    {
      "cell_type": "code",
      "source": [
        "import numpy as np\n",
        "import random\n",
        "import matplotlib.pyplot as plt"
      ],
      "metadata": {
        "id": "rdNarwf1TwXo"
      },
      "execution_count": null,
      "outputs": []
    },
    {
      "cell_type": "code",
      "execution_count": null,
      "metadata": {
        "id": "wZorjp4DJ1H1"
      },
      "outputs": [],
      "source": [
        "def create_data(N):\n",
        "    # y = ax +b\n",
        "    # p = (x, y)\n",
        "\n",
        "    p1 = np.random.uniform(-1, 1, 2)\n",
        "    p2 = np.random.uniform(-1, 1, 2)\n",
        "\n",
        "    a = (p1[1] - p2[1]) / (p1[0] - p2[0])\n",
        "    b = p1[1] - a * p1[0]\n",
        "\n",
        "    X_train = np.random.uniform(-1, 1, (N, 2))\n",
        "    y_train = np.sign((a * X_train[:, 0] + b) - X_train[:, 1])\n",
        "\n",
        "    X_test = np.random.uniform(-1, 1, (1000, 2))\n",
        "    y_test = np.sign((a * X_test[:, 0] + b) - X_test[:, 1])\n",
        "\n",
        "    X_train = np.concatenate((np.ones((X_train.shape[0], 1)), X_train), axis=1)\n",
        "    X_test = np.concatenate((np.ones((X_test.shape[0], 1)), X_test), axis=1)\n",
        "    return X_train, y_train, X_test, y_test, a, b\n",
        "\n"
      ]
    },
    {
      "cell_type": "code",
      "source": [
        "def missed_index(y_true, y_pred):\n",
        "    mis_i = []\n",
        "    for i in range(y_true.shape[0]):\n",
        "        if y_true[i] != y_pred[i]:\n",
        "            mis_i.append(i)\n",
        "    return mis_i"
      ],
      "metadata": {
        "id": "XLBBagMJ2BWN"
      },
      "execution_count": null,
      "outputs": []
    },
    {
      "cell_type": "code",
      "source": [
        "def perceptron(N):\n",
        "\n",
        "    total_iter = []\n",
        "    total_error = []\n",
        "\n",
        "    for _ in range(1000):\n",
        "        X_train, y_train, X_test, y_test, a, b = create_data(N)\n",
        "\n",
        "        w = np.zeros(3)\n",
        "        iter = 0\n",
        "\n",
        "        while True:\n",
        "            y_pred_train = np.sign(np.dot(X_train, w.T))\n",
        "\n",
        "            mis_i_train = missed_index(y_train, y_pred_train)\n",
        "\n",
        "            if len(mis_i_train) == 0:\n",
        "                break\n",
        "\n",
        "            rand_i = mis_i_train[random.randint(0, len(mis_i_train) - 1)]\n",
        "\n",
        "            w = w + y_train[rand_i] * X_train[rand_i]\n",
        "            iter += 1\n",
        "\n",
        "        total_iter.append(iter)\n",
        "\n",
        "\n",
        "        # calculo do erro\n",
        "        y_pred_test = np.sign(np.dot(X_test, w.T))\n",
        "\n",
        "        mis_i_test = missed_index(y_test, y_pred_test)\n",
        "\n",
        "        error = len(mis_i_test)/1000\n",
        "\n",
        "        total_error.append(error)\n",
        "    return np.mean(total_iter), np.mean(total_error)"
      ],
      "metadata": {
        "id": "3EMh4ik7Tt92"
      },
      "execution_count": null,
      "outputs": []
    },
    {
      "cell_type": "code",
      "source": [
        "total_iter10, total_error10 = perceptron(N = 10)\n",
        "print('questão 07, iterações média com N = 10')\n",
        "print(total_iter10)\n",
        "print('questão 08, erro médio com N = 10')\n",
        "print(total_error10)"
      ],
      "metadata": {
        "colab": {
          "base_uri": "https://localhost:8080/"
        },
        "id": "SXPyZ0Qn6Zdk",
        "outputId": "c841280d-8c58-4156-d4b6-4658e43a0aec"
      },
      "execution_count": null,
      "outputs": [
        {
          "output_type": "stream",
          "name": "stdout",
          "text": [
            "questão 07, iterações média com N = 10\n",
            "9.0\n",
            "questão 08, erro médio com N = 10\n",
            "0.10942600000000001\n"
          ]
        }
      ]
    },
    {
      "cell_type": "code",
      "source": [
        "total_iter100, total_error100 = perceptron(N = 100)\n",
        "print('questão 09, iterações média com N = 100')\n",
        "print(total_iter100)\n",
        "print('questão 10, erro médio com N = 100')\n",
        "print(total_error100)"
      ],
      "metadata": {
        "colab": {
          "base_uri": "https://localhost:8080/"
        },
        "id": "CQzSg2Rq6-kq",
        "outputId": "425925c0-63a0-434f-bb82-84ae39b75c1d"
      },
      "execution_count": null,
      "outputs": [
        {
          "output_type": "stream",
          "name": "stdout",
          "text": [
            "questão 09, iterações média com N = 100\n",
            "107.908\n",
            "questão 10, erro médio com N = 100\n",
            "0.012876000000000002\n"
          ]
        }
      ]
    }
  ]
}
