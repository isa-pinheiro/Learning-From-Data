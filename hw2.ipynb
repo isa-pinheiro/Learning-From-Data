{
  "nbformat": 4,
  "nbformat_minor": 0,
  "metadata": {
    "colab": {
      "provenance": [],
      "authorship_tag": "ABX9TyMC0PTZL7DBlt/r0b5hZMKN"
    },
    "kernelspec": {
      "name": "python3",
      "display_name": "Python 3"
    },
    "language_info": {
      "name": "python"
    }
  },
  "cells": [
    {
      "cell_type": "code",
      "execution_count": null,
      "metadata": {
        "id": "nkats5oXjpY2"
      },
      "outputs": [],
      "source": []
    }
  ]
}